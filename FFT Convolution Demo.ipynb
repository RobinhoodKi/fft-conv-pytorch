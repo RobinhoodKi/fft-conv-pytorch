{
 "cells": [
  {
   "cell_type": "markdown",
   "metadata": {},
   "source": [
    "# FFT Convolution Demo"
   ]
  },
  {
   "cell_type": "code",
   "execution_count": 1,
   "metadata": {},
   "outputs": [],
   "source": [
    "import torch\n",
    "import torch.nn.functional as f\n",
    "\n",
    "from fft_conv import fft_conv1d, fft_conv2d, fft_conv3d, FFTConv1d"
   ]
  },
  {
   "cell_type": "markdown",
   "metadata": {},
   "source": [
    "### Example Usage -- 1D Convolutions"
   ]
  },
  {
   "cell_type": "code",
   "execution_count": 2,
   "metadata": {},
   "outputs": [],
   "source": [
    "# Create dummy data.  \n",
    "#     Data shape: (batch, channels, length)\n",
    "#     Kernel shape: (out_channels, in_channels, kernel_size)\n",
    "# For ordinary 1D convolution, simply set batch=1.\n",
    "signal = torch.randn(3, 3, 1024 * 1024)\n",
    "kernel = torch.randn(2, 3, 128)\n",
    "\n",
    "# Functional execution.  (Easiest for generic use cases.)\n",
    "out = fft_conv1d(signal, kernel)\n",
    "\n",
    "# Object-oriented execution.  (Requires some extra work, since the \n",
    "# defined classes were designed for use in neural networks.)\n",
    "fft_conv = FFTConv1d(1, 1, 128, bias=False)\n",
    "fft_conv.weight = torch.nn.Parameter(kernel)\n",
    "out = fft_conv(signal)"
   ]
  },
  {
   "cell_type": "markdown",
   "metadata": {},
   "source": [
    "### 1D Test"
   ]
  },
  {
   "cell_type": "code",
   "execution_count": 3,
   "metadata": {},
   "outputs": [
    {
     "name": "stdout",
     "output_type": "stream",
     "text": [
      "--- Direct Convolution ---\n",
      "CPU times: user 2.75 s, sys: 22.1 ms, total: 2.77 s\n",
      "Wall time: 477 ms\n",
      "--- FFT Convolution ---\n",
      "CPU times: user 1.88 s, sys: 80.1 ms, total: 1.96 s\n",
      "Wall time: 380 ms\n",
      "\n",
      "Input shape: torch.Size([3, 3, 1048576])\n",
      "Output shape: torch.Size([3, 2, 1048576])\n",
      "\n",
      "Abs Error Mean: 9.582E-06\n",
      "Abs Error Std Dev: 7.355E-06\n"
     ]
    }
   ],
   "source": [
    "# Create dummy data\n",
    "kernel_size = 255\n",
    "padding = kernel_size // 2\n",
    "kernel = torch.randn(2, 3, kernel_size)\n",
    "signal = torch.randn(3, 3, 1024 * 1024)\n",
    "\n",
    "# Perform both direct and FFT convolutions\n",
    "print('--- Direct Convolution ---')\n",
    "%time y0 = f.conv1d(signal, kernel, padding=padding)\n",
    "print('--- FFT Convolution ---')\n",
    "%time y1 = fft_conv1d(signal, kernel, padding=padding)\n",
    "\n",
    "# Print input/output tensor shapes\n",
    "print(f'\\nInput shape: {signal.shape}')\n",
    "print(f'Output shape: {y0.shape}')\n",
    "\n",
    "# Compute relative error\n",
    "abs_error = torch.abs(y0 - y1)\n",
    "print(f'\\nAbs Error Mean: {abs_error.mean():.3E}')\n",
    "print(f'Abs Error Std Dev: {abs_error.std():.3E}')"
   ]
  },
  {
   "cell_type": "markdown",
   "metadata": {},
   "source": [
    "### 2D Test"
   ]
  },
  {
   "cell_type": "code",
   "execution_count": 4,
   "metadata": {},
   "outputs": [
    {
     "name": "stdout",
     "output_type": "stream",
     "text": [
      "--- Direct Convolution ---\n",
      "CPU times: user 1.42 s, sys: 18.9 ms, total: 1.44 s\n",
      "Wall time: 241 ms\n",
      "--- FFT Convolution ---\n",
      "CPU times: user 676 ms, sys: 53.1 ms, total: 729 ms\n",
      "Wall time: 125 ms\n",
      "\n",
      "Input shape: torch.Size([3, 3, 1024, 1024])\n",
      "Output shape: torch.Size([3, 2, 1024, 1024])\n",
      "\n",
      "Abs Error Mean: 4.800E-06\n",
      "Abs Error Std Dev: 3.746E-06\n"
     ]
    }
   ],
   "source": [
    "# Create dummy data\n",
    "kernel_size = 11\n",
    "padding = kernel_size // 2\n",
    "kernel = torch.randn(2, 3, kernel_size, kernel_size)\n",
    "signal = torch.randn(3, 3, 1024, 1024)\n",
    "\n",
    "# Perform both direct and FFT convolutions\n",
    "print('--- Direct Convolution ---')\n",
    "%time y0 = f.conv2d(signal, kernel, padding=padding)\n",
    "print('--- FFT Convolution ---')\n",
    "%time y1 = fft_conv2d(signal, kernel, padding=padding)\n",
    "\n",
    "# Print input/output tensor shapes\n",
    "print(f'\\nInput shape: {signal.shape}')\n",
    "print(f'Output shape: {y0.shape}')\n",
    "\n",
    "# Compute relative error\n",
    "abs_error = torch.abs(y0 - y1)\n",
    "print(f'\\nAbs Error Mean: {abs_error.mean():.3E}')\n",
    "print(f'Abs Error Std Dev: {abs_error.std():.3E}')"
   ]
  },
  {
   "cell_type": "markdown",
   "metadata": {},
   "source": [
    "### 3D Test"
   ]
  },
  {
   "cell_type": "code",
   "execution_count": 5,
   "metadata": {},
   "outputs": [
    {
     "name": "stdout",
     "output_type": "stream",
     "text": [
      "--- Direct Convolution ---\n",
      "CPU times: user 2.24 s, sys: 598 ms, total: 2.84 s\n",
      "Wall time: 508 ms\n",
      "--- FFT Convolution ---\n",
      "CPU times: user 475 ms, sys: 200 ms, total: 676 ms\n",
      "Wall time: 114 ms\n",
      "\n",
      "Input shape: torch.Size([3, 3, 128, 128, 128])\n",
      "Output shape: torch.Size([3, 2, 128, 128, 128])\n",
      "\n",
      "Abs Error Mean: 2.464E-06\n",
      "Abs Error Std Dev: 1.956E-06\n"
     ]
    }
   ],
   "source": [
    "# Create dummy data\n",
    "kernel_size = 3\n",
    "padding = kernel_size // 2\n",
    "kernel = torch.randn(2, 3, kernel_size, kernel_size, kernel_size)\n",
    "signal = torch.randn(3, 3, 128, 128, 128)\n",
    "\n",
    "# Perform both direct and FFT convolutions\n",
    "print('--- Direct Convolution ---')\n",
    "%time y0 = f.conv3d(signal, kernel, padding=padding)\n",
    "print('--- FFT Convolution ---')\n",
    "%time y1 = fft_conv3d(signal, kernel, padding=padding)\n",
    "\n",
    "# Print input/output tensor shapes\n",
    "print(f'\\nInput shape: {signal.shape}')\n",
    "print(f'Output shape: {y0.shape}')\n",
    "\n",
    "abs_error = torch.abs(y0 - y1)\n",
    "print(f'\\nAbs Error Mean: {abs_error.mean():.3E}')\n",
    "print(f'Abs Error Std Dev: {abs_error.std():.3E}')"
   ]
  },
  {
   "cell_type": "code",
   "execution_count": null,
   "metadata": {},
   "outputs": [],
   "source": []
  }
 ],
 "metadata": {
  "kernelspec": {
   "display_name": "Python 3",
   "language": "python",
   "name": "python3"
  },
  "language_info": {
   "codemirror_mode": {
    "name": "ipython",
    "version": 3
   },
   "file_extension": ".py",
   "mimetype": "text/x-python",
   "name": "python",
   "nbconvert_exporter": "python",
   "pygments_lexer": "ipython3",
   "version": "3.7.3"
  }
 },
 "nbformat": 4,
 "nbformat_minor": 2
}
